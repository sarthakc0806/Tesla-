{
 "cells": [
  {
   "cell_type": "code",
   "execution_count": 1,
   "metadata": {},
   "outputs": [],
   "source": [
    "import pandas as pd"
   ]
  },
  {
   "cell_type": "code",
   "execution_count": 2,
   "metadata": {},
   "outputs": [],
   "source": [
    "df = pd.read_excel (r'https://www.dropbox.com/scl/fi/v50whbkk8gdwle8n0pal7/US_Old.xlsx?dl=1&rlkey=laadw3gr2b4fn9fcwhf74ksd4')"
   ]
  },
  {
   "cell_type": "code",
   "execution_count": 3,
   "metadata": {},
   "outputs": [],
   "source": [
    "ef = pd.read_csv(\"https://www.dropbox.com/s/z1n78s7l5qb7sqx/patterns_final.csv?dl=1\")"
   ]
  },
  {
   "cell_type": "code",
   "execution_count": 4,
   "metadata": {},
   "outputs": [],
   "source": [
    "from difflib import SequenceMatcher\n",
    "\n",
    "def similar(a, b):\n",
    "    return SequenceMatcher(None, a, b).ratio()"
   ]
  },
  {
   "cell_type": "code",
   "execution_count": 5,
   "metadata": {},
   "outputs": [],
   "source": [
    "for i in range(7000,8000):\n",
    "\n",
    "    for j in range(len(df)):\n",
    "        \n",
    "        if similar(str(df.loc[j, \"Review\"]), str(ef.loc[i, \"review\"])) > 0.80:\n",
    "            \n",
    "            df.at[j, \"Match\"] = bool(1)\n",
    "            \n",
    "            df.at[j, \"String\"] = str(ef.loc[i, \"review\"])\n",
    "            \n",
    "            df.at[j, \"Ref_ID\"] = str(ef.loc[i, \"id\"])\n",
    "            \n",
    "            break\n",
    "            "
   ]
  },
  {
   "cell_type": "code",
   "execution_count": 6,
   "metadata": {},
   "outputs": [],
   "source": [
    "df.to_csv(\"8.csv\", index = False)"
   ]
  },
  {
   "cell_type": "code",
   "execution_count": null,
   "metadata": {},
   "outputs": [],
   "source": []
  }
 ],
 "metadata": {
  "kernelspec": {
   "display_name": "Python [conda env:2020.02]",
   "language": "python",
   "name": "conda-env-2020.02-py"
  },
  "language_info": {
   "codemirror_mode": {
    "name": "ipython",
    "version": 3
   },
   "file_extension": ".py",
   "mimetype": "text/x-python",
   "name": "python",
   "nbconvert_exporter": "python",
   "pygments_lexer": "ipython3",
   "version": "3.7.6"
  }
 },
 "nbformat": 4,
 "nbformat_minor": 4
}
